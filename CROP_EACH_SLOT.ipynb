{
 "cells": [
  {
   "cell_type": "code",
   "execution_count": 2,
   "id": "28ef9d30",
   "metadata": {},
   "outputs": [
    {
     "name": "stdout",
     "output_type": "stream",
     "text": [
      "Enter the length of the Nala Bund in meters: 20\n",
      "Enter the height of the Nala Bund in meters: 5\n",
      "Enter the width of the Nala Bund in meters: 6\n",
      "Enter the price of cement per metric ton: 320\n",
      "Enter the price of reinforcement steel per kilogram: 57\n",
      "Enter the labor rate per day: 4\n",
      "Enter the estimated construction duration in days: 20\n",
      "Enter the number of workers involved: 10\n",
      "Enter the transportation cost in dollars: 128\n",
      "Enter the site preparation cost in dollars: 1282\n",
      "Enter the permit cost in dollars: 0\n",
      "Enter the consultancy fee in dollars: 0\n",
      "------- Cost Estimate for Cement Nala Bund -------\n",
      "Material Costs: $48074.10\n",
      "Labor Costs: $800.00\n",
      "Miscellaneous Costs: $1410.00\n",
      "Total Cost: $50284.10\n"
     ]
    }
   ],
   "source": [
    "import cv2\n",
    "import pickle\n",
    "import imutils\n",
    "import cvzone\n",
    "import numpy as np\n",
    "import matplotlib.pyplot as plt\n",
    "\n",
    "width=107\n",
    "height=45\n",
    "j=1\n",
    "try:\n",
    "    with open('CarParkPos24','rb') as f:\n",
    "        posList=pickle.load(f)\n",
    "except:\n",
    "    posList=[]\n",
    "\n",
    "def mouseclick(events,x,y,flags,p):\n",
    "    if events==cv2.EVENT_LBUTTONDOWN:\n",
    "        posList.append((x,y))\n",
    "        \n",
    "    if events == cv2.EVENT_RBUTTONDOWN:\n",
    "        \n",
    "        for i,pos in enumerate(posList):\n",
    "            x1,y1=pos;\n",
    "            \n",
    "            if x1<x<x1+width and y1<y<y1+height:\n",
    "                posList.pop(i)\n",
    "                \n",
    "    with open('CarParkPos24','wb') as f:\n",
    "        pickle.dump(posList,f)   \n",
    "    \n",
    "while True:\n",
    "    cam=cv2.imread('CarParkImg.png')    #to get images regularly\n",
    "    for pos in posList:\n",
    "        cv2.rectangle(cam,pos,(pos[0]+width,pos[1]+height),(255,0,255),2)\n",
    "    \n",
    "    cv2.imshow(\"Image1\",cam)\n",
    "    cv2.setMouseCallback(\"Image1\",mouseclick)\n",
    "    \n",
    "    if(cv2.waitKey(1)==27):\n",
    "            break\n",
    "cv2.destroyAllWindows()"
   ]
  },
  {
   "cell_type": "code",
   "execution_count": null,
   "id": "d34bfa88",
   "metadata": {},
   "outputs": [],
   "source": []
  }
 ],
 "metadata": {
  "kernelspec": {
   "display_name": "Python 3",
   "language": "python",
   "name": "python3"
  },
  "language_info": {
   "codemirror_mode": {
    "name": "ipython",
    "version": 3
   },
   "file_extension": ".py",
   "mimetype": "text/x-python",
   "name": "python",
   "nbconvert_exporter": "python",
   "pygments_lexer": "ipython3",
   "version": "3.8.8"
  }
 },
 "nbformat": 4,
 "nbformat_minor": 5
}
